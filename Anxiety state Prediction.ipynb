{
  "nbformat": 4,
  "nbformat_minor": 0,
  "metadata": {
    "colab": {
      "name": "Untitled18 (1).ipynb",
      "provenance": [],
      "collapsed_sections": []
    },
    "kernelspec": {
      "name": "python3",
      "display_name": "Python 3"
    },
    "language_info": {
      "name": "python"
    }
  },
  "cells": [
    {
      "cell_type": "code",
      "execution_count": 2,
      "metadata": {
        "colab": {
          "base_uri": "https://localhost:8080/"
        },
        "id": "lsUH48mjm48p",
        "outputId": "dccb0e2a-6acd-4302-98d2-c936e0b9e7d6"
      },
      "outputs": [
        {
          "output_type": "stream",
          "name": "stdout",
          "text": [
            "Requirement already satisfied: pydub in /usr/local/lib/python3.7/dist-packages (0.25.1)\n"
          ]
        }
      ],
      "source": [
        "import tensorflow as tf\n",
        "import numpy as np\n",
        "import scipy\n",
        "from scipy import misc\n",
        "import glob\n",
        "from PIL import Image\n",
        "import os\n",
        "import matplotlib.pyplot as plt\n",
        "import librosa\n",
        "from keras import layers\n",
        "from keras.layers import (Input, Add, Dense, Activation, ZeroPadding2D, BatchNormalization, Flatten, Dropout, \n",
        "                          Conv2D, AveragePooling2D, MaxPooling2D, GlobalMaxPooling2D)\n",
        "from keras.models import Model, load_model\n",
        "from keras.preprocessing import image\n",
        "from keras.utils import layer_utils\n",
        "import pydot\n",
        "from IPython.display import SVG\n",
        "from keras.utils.vis_utils import model_to_dot\n",
        "!pip install pydub\n",
        "from keras.initializers import glorot_uniform\n",
        "from matplotlib.backends.backend_agg import FigureCanvasAgg as FigureCanvas\n",
        "from pydub import AudioSegment\n",
        "import shutil\n",
        "from keras.preprocessing.image import ImageDataGenerator\n",
        "import random\n",
        "from tensorflow.keras.optimizers import Adam, SGD, RMSprop"
      ]
    },
    {
      "cell_type": "code",
      "source": [
        "from google.colab import drive\n",
        "drive.mount('/content/gdrive')"
      ],
      "metadata": {
        "colab": {
          "base_uri": "https://localhost:8080/"
        },
        "id": "uMOskc6Tm-6V",
        "outputId": "a07b4286-708b-4c32-c22a-7495ebe700ff"
      },
      "execution_count": 2,
      "outputs": [
        {
          "output_type": "stream",
          "name": "stdout",
          "text": [
            "Mounted at /content/gdrive\n"
          ]
        }
      ]
    },
    {
      "cell_type": "code",
      "source": [
        "state=\"yes no\"\n",
        "state=state.split()\n",
        "directory = \"/content/gdrive/My Drive/anxiety/train/\"\n",
        "for s in state:\n",
        "  filenames = os.listdir(os.path.join(directory,f\"{s}\"))\n",
        "  random.shuffle(filenames)\n",
        "  test_files = filenames[0:100]\n",
        "\n",
        "  for f in test_files:\n",
        "\n",
        "    shutil.move(directory + f\"{s}\"+ \"/\" + f,\"/content/gdrive/My Drive/anxiety/test/\" + f\"{s}\")"
      ],
      "metadata": {
        "id": "WK-9IDsQomFR"
      },
      "execution_count": null,
      "outputs": []
    },
    {
      "cell_type": "code",
      "source": [
        "train_dir = \"/content/gdrive/My Drive/anxiety/train/\"\n",
        "train_datagen = ImageDataGenerator(rescale=1./255)\n",
        "train_generator = train_datagen.flow_from_directory(train_dir,target_size=(288,432),color_mode=\"rgba\",class_mode='categorical',batch_size=128)\n",
        "\n",
        "validation_dir = \"/content/gdrive/My Drive/anxiety/test/\"\n",
        "vali_datagen = ImageDataGenerator(rescale=1./255)\n",
        "vali_generator = vali_datagen.flow_from_directory(validation_dir,target_size=(288,432),color_mode='rgba',class_mode='categorical',batch_size=128)"
      ],
      "metadata": {
        "colab": {
          "base_uri": "https://localhost:8080/"
        },
        "id": "3cib_pMIz28E",
        "outputId": "49970acc-bfd9-4024-abe7-a774fb5cfd73"
      },
      "execution_count": 3,
      "outputs": [
        {
          "output_type": "stream",
          "name": "stdout",
          "text": [
            "Found 600 images belonging to 2 classes.\n",
            "Found 300 images belonging to 2 classes.\n"
          ]
        }
      ]
    },
    {
      "cell_type": "code",
      "source": [
        "def AModel(input_shape = (288,432,4),classes=2):\n",
        "  \n",
        "  X_input = Input(input_shape)\n",
        "\n",
        "  X = Conv2D(8,kernel_size=(3,3),strides=(1,1))(X_input)\n",
        "  X = BatchNormalization(axis=3)(X)\n",
        "  X = Activation('relu')(X)\n",
        "  X = MaxPooling2D((2,2))(X)\n",
        "  \n",
        "  X = Conv2D(16,kernel_size=(3,3),strides = (1,1))(X)\n",
        "  X = BatchNormalization(axis=3)(X)\n",
        "  X = Activation('relu')(X)\n",
        "  X = MaxPooling2D((2,2))(X)\n",
        "  \n",
        "  X = Conv2D(32,kernel_size=(3,3),strides = (1,1))(X)\n",
        "  X = BatchNormalization(axis=3)(X)\n",
        "  X = Activation('relu')(X)\n",
        "  X = MaxPooling2D((2,2))(X)\n",
        "\n",
        "  X = Conv2D(64,kernel_size=(3,3),strides=(1,1))(X)\n",
        "  X = BatchNormalization(axis=-1)(X)\n",
        "  X = Activation('relu')(X)\n",
        "  X = MaxPooling2D((2,2))(X)\n",
        "  X = Conv2D(128,kernel_size=(3,3),strides=(1,1))(X)\n",
        "  X = BatchNormalization(axis=-1)(X)\n",
        "  X = Activation('relu')(X)\n",
        "  X = MaxPooling2D((2,2))(X)\n",
        "\n",
        "  \n",
        "  X = Flatten()(X)\n",
        "  \n",
        "  X = Dropout(rate=0.3)(X)\n",
        "  X=  Dense(128,activation=\"relu\")(X)\n",
        "\n",
        "  X = Dense(classes, activation='softmax', name='fc' + str(classes))(X)\n",
        "\n",
        "  model = Model(inputs=X_input,outputs=X,name='AModel')\n",
        "\n",
        "  return model"
      ],
      "metadata": {
        "id": "qX99DGy20Ofj"
      },
      "execution_count": 4,
      "outputs": []
    },
    {
      "cell_type": "code",
      "source": [
        "import keras.backend as K\n",
        "def get_f1(y_true, y_pred): #taken from old keras source code\n",
        "    true_positives = K.sum(K.round(K.clip(y_true * y_pred, 0, 1)))\n",
        "    possible_positives = K.sum(K.round(K.clip(y_true, 0, 1)))\n",
        "    predicted_positives = K.sum(K.round(K.clip(y_pred, 0, 1)))\n",
        "    precision = true_positives / (predicted_positives + K.epsilon())\n",
        "    recall = true_positives / (possible_positives + K.epsilon())\n",
        "    f1_val = 2*(precision*recall)/(precision+recall+K.epsilon())\n",
        "    return f1_val\n",
        "  \n",
        "model = AModel(input_shape=(288,432,4),classes=2)\n",
        "opt = Adam(learning_rate=0.0005)\n",
        "model.compile(optimizer = opt,loss='categorical_crossentropy',metrics=['accuracy',get_f1]) \n",
        "\n",
        "model.fit_generator(train_generator,epochs=10,validation_data=vali_generator)\n"
      ],
      "metadata": {
        "colab": {
          "base_uri": "https://localhost:8080/"
        },
        "id": "nFhvknY00Vm_",
        "outputId": "8f470051-c5e6-40d6-a808-82fb653dc0e1"
      },
      "execution_count": 5,
      "outputs": [
        {
          "output_type": "stream",
          "name": "stderr",
          "text": [
            "/usr/local/lib/python3.7/dist-packages/ipykernel_launcher.py:15: UserWarning: `Model.fit_generator` is deprecated and will be removed in a future version. Please use `Model.fit`, which supports generators.\n",
            "  from ipykernel import kernelapp as app\n"
          ]
        },
        {
          "output_type": "stream",
          "name": "stdout",
          "text": [
            "Epoch 1/10\n",
            "5/5 [==============================] - 80s 16s/step - loss: 2.8109 - accuracy: 0.5417 - get_f1: 0.5455 - val_loss: 0.6992 - val_accuracy: 0.3333 - val_get_f1: 0.3002\n",
            "Epoch 2/10\n",
            "5/5 [==============================] - 74s 15s/step - loss: 0.9658 - accuracy: 0.5117 - get_f1: 0.5180 - val_loss: 0.6951 - val_accuracy: 0.3333 - val_get_f1: 0.3449\n",
            "Epoch 3/10\n",
            "5/5 [==============================] - 76s 16s/step - loss: 0.7078 - accuracy: 0.5050 - get_f1: 0.5018 - val_loss: 0.6902 - val_accuracy: 0.6667 - val_get_f1: 0.6650\n",
            "Epoch 4/10\n",
            "5/5 [==============================] - 73s 16s/step - loss: 0.6729 - accuracy: 0.5000 - get_f1: 0.4986 - val_loss: 0.6924 - val_accuracy: 0.6667 - val_get_f1: 0.6899\n",
            "Epoch 5/10\n",
            "5/5 [==============================] - 82s 17s/step - loss: 0.6426 - accuracy: 0.5000 - get_f1: 0.5057 - val_loss: 0.6931 - val_accuracy: 0.6667 - val_get_f1: 0.6948\n",
            "Epoch 6/10\n",
            "5/5 [==============================] - 73s 15s/step - loss: 0.6399 - accuracy: 0.5433 - get_f1: 0.5463 - val_loss: 0.6933 - val_accuracy: 0.3333 - val_get_f1: 0.3300\n",
            "Epoch 7/10\n",
            "5/5 [==============================] - 72s 15s/step - loss: 0.6359 - accuracy: 0.6233 - get_f1: 0.6234 - val_loss: 0.6936 - val_accuracy: 0.3333 - val_get_f1: 0.3449\n",
            "Epoch 8/10\n",
            "5/5 [==============================] - 86s 18s/step - loss: 0.6312 - accuracy: 0.6283 - get_f1: 0.6303 - val_loss: 0.6931 - val_accuracy: 0.4733 - val_get_f1: 0.5040\n",
            "Epoch 9/10\n",
            "5/5 [==============================] - 82s 17s/step - loss: 0.6265 - accuracy: 0.6350 - get_f1: 0.6308 - val_loss: 0.6913 - val_accuracy: 0.5700 - val_get_f1: 0.5994\n",
            "Epoch 10/10\n",
            "5/5 [==============================] - 82s 17s/step - loss: 0.6236 - accuracy: 0.6400 - get_f1: 0.6391 - val_loss: 0.6877 - val_accuracy: 0.6667 - val_get_f1: 0.6451\n"
          ]
        },
        {
          "output_type": "execute_result",
          "data": {
            "text/plain": [
              "<keras.callbacks.History at 0x7f9594373790>"
            ]
          },
          "metadata": {},
          "execution_count": 5
        }
      ]
    }
  ]
}