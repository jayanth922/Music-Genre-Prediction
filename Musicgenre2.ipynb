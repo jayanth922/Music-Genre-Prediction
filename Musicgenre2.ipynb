{
  "nbformat": 4,
  "nbformat_minor": 0,
  "metadata": {
    "colab": {
      "name": "Musicgenre2.ipynb",
      "provenance": []
    },
    "kernelspec": {
      "name": "python3",
      "display_name": "Python 3"
    },
    "language_info": {
      "name": "python"
    }
  },
  "cells": [
    {
      "cell_type": "code",
      "execution_count": 4,
      "metadata": {
        "id": "QNssiJ3syYyM"
      },
      "outputs": [],
      "source": [
        "import json\n",
        "import numpy as np\n",
        "from sklearn.model_selection import train_test_split\n",
        "import tensorflow.keras as keras\n",
        "\n",
        "import matplotlib.pyplot as plt\n",
        "import random\n",
        "\n",
        "import librosa\n",
        "import math"
      ]
    },
    {
      "cell_type": "code",
      "source": [
        "from google.colab import drive\n",
        "drive.mount('/content/drive')"
      ],
      "metadata": {
        "colab": {
          "base_uri": "https://localhost:8080/"
        },
        "id": "B9O2PbtjygNu",
        "outputId": "4d77d79d-ff12-4bf7-eea3-9589c68682b5"
      },
      "execution_count": 5,
      "outputs": [
        {
          "output_type": "stream",
          "name": "stdout",
          "text": [
            "Drive already mounted at /content/drive; to attempt to forcibly remount, call drive.mount(\"/content/drive\", force_remount=True).\n"
          ]
        }
      ]
    },
    {
      "cell_type": "code",
      "source": [
        "# path to json\n",
        "DATA_PATH = \"/content/drive/MyDrive/Dl project/genres_original/data_10.json\""
      ],
      "metadata": {
        "id": "jrOGT6Q3yk4h"
      },
      "execution_count": 9,
      "outputs": []
    },
    {
      "cell_type": "code",
      "source": [
        "def load_data(data_path):\n",
        "\n",
        "    with open(data_path, \"r\") as f:\n",
        "        data = json.load(f)\n",
        "\n",
        "    # convert lists to numpy arrays\n",
        "    X = np.array(data[\"mfcc\"])\n",
        "    y = np.array(data[\"labels\"])\n",
        "\n",
        "    print(\"Data succesfully loaded!\")\n",
        "\n",
        "    return  X, y"
      ],
      "metadata": {
        "id": "LVM7RAj61KOd"
      },
      "execution_count": 10,
      "outputs": []
    },
    {
      "cell_type": "code",
      "source": [
        "# load data\n",
        "X, y = load_data(DATA_PATH)"
      ],
      "metadata": {
        "colab": {
          "base_uri": "https://localhost:8080/"
        },
        "id": "gcvKsd5R1VSa",
        "outputId": "f90a739e-194a-4f30-ea69-d5a22d7c09c8"
      },
      "execution_count": 11,
      "outputs": [
        {
          "output_type": "stream",
          "name": "stdout",
          "text": [
            "Data succesfully loaded!\n"
          ]
        }
      ]
    },
    {
      "cell_type": "code",
      "source": [
        "X.shape"
      ],
      "metadata": {
        "colab": {
          "base_uri": "https://localhost:8080/"
        },
        "id": "qwRMY-Lt1XZf",
        "outputId": "a175b567-6b95-4749-fd95-cd9425c706b9"
      },
      "execution_count": 12,
      "outputs": [
        {
          "output_type": "execute_result",
          "data": {
            "text/plain": [
              "(9986, 130, 13)"
            ]
          },
          "metadata": {},
          "execution_count": 12
        }
      ]
    },
    {
      "cell_type": "code",
      "source": [
        "# create train/test split\n",
        "X_train, X_test, y_train, y_test = train_test_split(X, y, test_size=0.3)"
      ],
      "metadata": {
        "id": "LR_OYH5k1ZQx"
      },
      "execution_count": 13,
      "outputs": []
    },
    {
      "cell_type": "markdown",
      "source": [
        "Simple ANN"
      ],
      "metadata": {
        "id": "muXqDRHl1er9"
      }
    },
    {
      "cell_type": "code",
      "source": [
        "# build network topology\n",
        "model = keras.Sequential([\n",
        "\n",
        "    # input layer\n",
        "    keras.layers.Flatten(input_shape=(X.shape[1], X.shape[2])),\n",
        "\n",
        "    # 1st dense layer\n",
        "    keras.layers.Dense(512, activation='relu'),\n",
        "\n",
        "    # 2nd dense layer\n",
        "    keras.layers.Dense(256, activation='relu'),\n",
        "\n",
        "    # 3rd dense layer\n",
        "    keras.layers.Dense(64, activation='relu'),\n",
        "\n",
        "    # output layer\n",
        "    keras.layers.Dense(11, activation='softmax')\n",
        "])"
      ],
      "metadata": {
        "id": "xRkAwuxa1fx3"
      },
      "execution_count": 19,
      "outputs": []
    },
    {
      "cell_type": "code",
      "source": [
        "# compile model\n",
        "optimiser = keras.optimizers.Adam(learning_rate=0.0001)\n",
        "model.compile(optimizer=optimiser,\n",
        "              loss='sparse_categorical_crossentropy',\n",
        "              metrics=['accuracy'])"
      ],
      "metadata": {
        "id": "jw74qUgt1iOr"
      },
      "execution_count": 20,
      "outputs": []
    },
    {
      "cell_type": "code",
      "source": [
        "model.summary()"
      ],
      "metadata": {
        "colab": {
          "base_uri": "https://localhost:8080/"
        },
        "id": "fJerSfHv1kvm",
        "outputId": "36c2affd-c22d-47c1-b59f-75ae18ef9946"
      },
      "execution_count": 21,
      "outputs": [
        {
          "output_type": "stream",
          "name": "stdout",
          "text": [
            "Model: \"sequential_1\"\n",
            "_________________________________________________________________\n",
            " Layer (type)                Output Shape              Param #   \n",
            "=================================================================\n",
            " flatten_1 (Flatten)         (None, 1690)              0         \n",
            "                                                                 \n",
            " dense_4 (Dense)             (None, 512)               865792    \n",
            "                                                                 \n",
            " dense_5 (Dense)             (None, 256)               131328    \n",
            "                                                                 \n",
            " dense_6 (Dense)             (None, 64)                16448     \n",
            "                                                                 \n",
            " dense_7 (Dense)             (None, 11)                715       \n",
            "                                                                 \n",
            "=================================================================\n",
            "Total params: 1,014,283\n",
            "Trainable params: 1,014,283\n",
            "Non-trainable params: 0\n",
            "_________________________________________________________________\n"
          ]
        }
      ]
    },
    {
      "cell_type": "code",
      "source": [
        "# train model\n",
        "history = model.fit(X_train, y_train, validation_data=(X_test, y_test), batch_size=32, epochs=50)"
      ],
      "metadata": {
        "colab": {
          "base_uri": "https://localhost:8080/"
        },
        "id": "f74knoMi1mvi",
        "outputId": "c34c1f76-db1c-407a-ab7b-4d79f5e8dd1e"
      },
      "execution_count": 22,
      "outputs": [
        {
          "output_type": "stream",
          "name": "stdout",
          "text": [
            "Epoch 1/50\n",
            "219/219 [==============================] - 7s 29ms/step - loss: 7.6020 - accuracy: 0.3187 - val_loss: 3.3570 - val_accuracy: 0.3692\n",
            "Epoch 2/50\n",
            "219/219 [==============================] - 6s 27ms/step - loss: 2.5383 - accuracy: 0.4189 - val_loss: 2.5775 - val_accuracy: 0.3845\n",
            "Epoch 3/50\n",
            "219/219 [==============================] - 6s 28ms/step - loss: 1.8374 - accuracy: 0.4858 - val_loss: 2.2122 - val_accuracy: 0.4286\n",
            "Epoch 4/50\n",
            "219/219 [==============================] - 6s 27ms/step - loss: 1.4795 - accuracy: 0.5438 - val_loss: 1.9948 - val_accuracy: 0.4429\n",
            "Epoch 5/50\n",
            "219/219 [==============================] - 5s 24ms/step - loss: 1.2731 - accuracy: 0.5830 - val_loss: 2.1138 - val_accuracy: 0.4519\n",
            "Epoch 6/50\n",
            "219/219 [==============================] - 6s 26ms/step - loss: 1.1492 - accuracy: 0.6229 - val_loss: 1.8339 - val_accuracy: 0.4820\n",
            "Epoch 7/50\n",
            "219/219 [==============================] - 4s 20ms/step - loss: 0.9583 - accuracy: 0.6692 - val_loss: 1.8938 - val_accuracy: 0.4843\n",
            "Epoch 8/50\n",
            "219/219 [==============================] - 5s 23ms/step - loss: 0.8482 - accuracy: 0.7060 - val_loss: 1.8751 - val_accuracy: 0.4947\n",
            "Epoch 9/50\n",
            "219/219 [==============================] - 5s 23ms/step - loss: 0.7873 - accuracy: 0.7342 - val_loss: 1.8202 - val_accuracy: 0.5057\n",
            "Epoch 10/50\n",
            "219/219 [==============================] - 6s 27ms/step - loss: 0.7134 - accuracy: 0.7479 - val_loss: 1.8969 - val_accuracy: 0.4890\n",
            "Epoch 11/50\n",
            "219/219 [==============================] - 6s 28ms/step - loss: 0.6321 - accuracy: 0.7750 - val_loss: 1.8502 - val_accuracy: 0.5210\n",
            "Epoch 12/50\n",
            "219/219 [==============================] - 5s 24ms/step - loss: 0.5815 - accuracy: 0.7963 - val_loss: 1.8662 - val_accuracy: 0.5254\n",
            "Epoch 13/50\n",
            "219/219 [==============================] - 6s 26ms/step - loss: 0.5281 - accuracy: 0.8175 - val_loss: 1.9771 - val_accuracy: 0.5167\n",
            "Epoch 14/50\n",
            "219/219 [==============================] - 6s 26ms/step - loss: 0.5322 - accuracy: 0.8156 - val_loss: 1.7878 - val_accuracy: 0.5521\n",
            "Epoch 15/50\n",
            "219/219 [==============================] - 6s 26ms/step - loss: 0.4231 - accuracy: 0.8568 - val_loss: 1.8145 - val_accuracy: 0.5471\n",
            "Epoch 16/50\n",
            "219/219 [==============================] - 5s 24ms/step - loss: 0.4168 - accuracy: 0.8575 - val_loss: 1.9254 - val_accuracy: 0.5327\n",
            "Epoch 17/50\n",
            "219/219 [==============================] - 5s 21ms/step - loss: 0.4004 - accuracy: 0.8614 - val_loss: 1.8806 - val_accuracy: 0.5537\n",
            "Epoch 18/50\n",
            "219/219 [==============================] - 5s 24ms/step - loss: 0.3521 - accuracy: 0.8815 - val_loss: 1.9084 - val_accuracy: 0.5481\n",
            "Epoch 19/50\n",
            "219/219 [==============================] - 4s 20ms/step - loss: 0.3263 - accuracy: 0.8906 - val_loss: 2.1086 - val_accuracy: 0.5240\n",
            "Epoch 20/50\n",
            "219/219 [==============================] - 4s 19ms/step - loss: 0.3059 - accuracy: 0.8963 - val_loss: 1.9784 - val_accuracy: 0.5671\n",
            "Epoch 21/50\n",
            "219/219 [==============================] - 5s 22ms/step - loss: 0.2908 - accuracy: 0.9036 - val_loss: 2.1163 - val_accuracy: 0.5394\n",
            "Epoch 22/50\n",
            "219/219 [==============================] - 5s 23ms/step - loss: 0.2907 - accuracy: 0.9004 - val_loss: 1.9764 - val_accuracy: 0.5668\n",
            "Epoch 23/50\n",
            "219/219 [==============================] - 6s 27ms/step - loss: 0.2330 - accuracy: 0.9278 - val_loss: 2.0308 - val_accuracy: 0.5584\n",
            "Epoch 24/50\n",
            "219/219 [==============================] - 5s 24ms/step - loss: 0.1904 - accuracy: 0.9399 - val_loss: 2.0662 - val_accuracy: 0.5584\n",
            "Epoch 25/50\n",
            "219/219 [==============================] - 6s 28ms/step - loss: 0.2160 - accuracy: 0.9270 - val_loss: 2.4678 - val_accuracy: 0.5337\n",
            "Epoch 26/50\n",
            "219/219 [==============================] - 5s 25ms/step - loss: 0.2983 - accuracy: 0.8936 - val_loss: 2.1074 - val_accuracy: 0.5391\n",
            "Epoch 27/50\n",
            "219/219 [==============================] - 6s 25ms/step - loss: 0.2124 - accuracy: 0.9292 - val_loss: 2.1242 - val_accuracy: 0.5688\n",
            "Epoch 28/50\n",
            "219/219 [==============================] - 5s 25ms/step - loss: 0.1707 - accuracy: 0.9459 - val_loss: 2.2231 - val_accuracy: 0.5668\n",
            "Epoch 29/50\n",
            "219/219 [==============================] - 5s 24ms/step - loss: 0.1888 - accuracy: 0.9405 - val_loss: 2.1652 - val_accuracy: 0.5738\n",
            "Epoch 30/50\n",
            "219/219 [==============================] - 6s 25ms/step - loss: 0.1619 - accuracy: 0.9455 - val_loss: 2.2416 - val_accuracy: 0.5728\n",
            "Epoch 31/50\n",
            "219/219 [==============================] - 6s 27ms/step - loss: 0.1555 - accuracy: 0.9534 - val_loss: 2.2093 - val_accuracy: 0.5751\n",
            "Epoch 32/50\n",
            "219/219 [==============================] - 6s 26ms/step - loss: 0.1224 - accuracy: 0.9625 - val_loss: 2.1693 - val_accuracy: 0.5748\n",
            "Epoch 33/50\n",
            "219/219 [==============================] - 6s 26ms/step - loss: 0.1214 - accuracy: 0.9615 - val_loss: 2.3022 - val_accuracy: 0.5688\n",
            "Epoch 34/50\n",
            "219/219 [==============================] - 5s 23ms/step - loss: 0.1411 - accuracy: 0.9571 - val_loss: 2.2601 - val_accuracy: 0.5811\n",
            "Epoch 35/50\n",
            "219/219 [==============================] - 6s 27ms/step - loss: 0.1176 - accuracy: 0.9634 - val_loss: 2.3006 - val_accuracy: 0.5654\n",
            "Epoch 36/50\n",
            "219/219 [==============================] - 6s 26ms/step - loss: 0.1716 - accuracy: 0.9443 - val_loss: 2.7408 - val_accuracy: 0.5414\n",
            "Epoch 37/50\n",
            "219/219 [==============================] - 5s 24ms/step - loss: 0.2812 - accuracy: 0.9036 - val_loss: 2.4690 - val_accuracy: 0.5698\n",
            "Epoch 38/50\n",
            "219/219 [==============================] - 6s 26ms/step - loss: 0.1365 - accuracy: 0.9558 - val_loss: 2.3762 - val_accuracy: 0.5915\n",
            "Epoch 39/50\n",
            "219/219 [==============================] - 6s 26ms/step - loss: 0.0735 - accuracy: 0.9800 - val_loss: 2.3861 - val_accuracy: 0.5874\n",
            "Epoch 40/50\n",
            "219/219 [==============================] - 5s 24ms/step - loss: 0.0629 - accuracy: 0.9831 - val_loss: 2.5251 - val_accuracy: 0.5771\n",
            "Epoch 41/50\n",
            "219/219 [==============================] - 4s 20ms/step - loss: 0.0649 - accuracy: 0.9828 - val_loss: 2.2212 - val_accuracy: 0.6091\n",
            "Epoch 42/50\n",
            "219/219 [==============================] - 6s 28ms/step - loss: 0.0664 - accuracy: 0.9815 - val_loss: 2.9335 - val_accuracy: 0.5554\n",
            "Epoch 43/50\n",
            "219/219 [==============================] - 5s 24ms/step - loss: 0.3601 - accuracy: 0.8845 - val_loss: 2.4455 - val_accuracy: 0.5711\n",
            "Epoch 44/50\n",
            "219/219 [==============================] - 4s 19ms/step - loss: 0.2067 - accuracy: 0.9273 - val_loss: 2.8316 - val_accuracy: 0.5721\n",
            "Epoch 45/50\n",
            "219/219 [==============================] - 4s 18ms/step - loss: 0.0667 - accuracy: 0.9823 - val_loss: 2.3703 - val_accuracy: 0.6058\n",
            "Epoch 46/50\n",
            "219/219 [==============================] - 5s 22ms/step - loss: 0.0449 - accuracy: 0.9881 - val_loss: 2.4069 - val_accuracy: 0.5955\n",
            "Epoch 47/50\n",
            "219/219 [==============================] - 6s 26ms/step - loss: 0.0298 - accuracy: 0.9941 - val_loss: 2.3959 - val_accuracy: 0.6091\n",
            "Epoch 48/50\n",
            "219/219 [==============================] - 4s 19ms/step - loss: 0.0247 - accuracy: 0.9959 - val_loss: 2.4174 - val_accuracy: 0.6075\n",
            "Epoch 49/50\n",
            "219/219 [==============================] - 5s 21ms/step - loss: 0.0376 - accuracy: 0.9896 - val_loss: 2.6039 - val_accuracy: 0.5681\n",
            "Epoch 50/50\n",
            "219/219 [==============================] - 5s 21ms/step - loss: 0.1914 - accuracy: 0.9435 - val_loss: 3.1230 - val_accuracy: 0.5237\n"
          ]
        }
      ]
    },
    {
      "cell_type": "code",
      "source": [
        "def plot_history(history):\n",
        "\n",
        "    fig, axs = plt.subplots(2)\n",
        "\n",
        "    # create accuracy sublpot\n",
        "    axs[0].plot(history.history[\"accuracy\"], label=\"train accuracy\")\n",
        "    axs[0].plot(history.history[\"val_accuracy\"], label=\"test accuracy\")\n",
        "    axs[0].set_ylabel(\"Accuracy\")\n",
        "    axs[0].legend(loc=\"lower right\")\n",
        "    axs[0].set_title(\"Accuracy eval\")\n",
        "\n",
        "    # create error sublpot\n",
        "    axs[1].plot(history.history[\"loss\"], label=\"train error\")\n",
        "    axs[1].plot(history.history[\"val_loss\"], label=\"test error\")\n",
        "    axs[1].set_ylabel(\"Error\")\n",
        "    axs[1].set_xlabel(\"Epoch\")\n",
        "    axs[1].legend(loc=\"upper right\")\n",
        "    axs[1].set_title(\"Error eval\")\n",
        "    \n",
        "    plt.show()"
      ],
      "metadata": {
        "id": "dJnw3-901pQD"
      },
      "execution_count": 23,
      "outputs": []
    },
    {
      "cell_type": "code",
      "source": [
        "# plot accuracy and error as a function of the epochs\n",
        "plot_history(history)"
      ],
      "metadata": {
        "colab": {
          "base_uri": "https://localhost:8080/",
          "height": 295
        },
        "id": "5KY5HIPk1r2G",
        "outputId": "b7c6e0d3-9e6a-4ae4-ee12-bcf3c13fbc9e"
      },
      "execution_count": 24,
      "outputs": [
        {
          "output_type": "display_data",
          "data": {
            "image/png": "[encoded data removed]",
            "text/plain": [
              "<Figure size 432x288 with 2 Axes>"
            ]
          },
          "metadata": {
            "needs_background": "light"
          }
        }
      ]
    },
    {
      "cell_type": "markdown",
      "source": [
        "Managing Overfitting"
      ],
      "metadata": {
        "id": "vdYklFSp1wuv"
      }
    },
    {
      "cell_type": "code",
      "source": [
        "# build network topology\n",
        "model_regularized = keras.Sequential([\n",
        "\n",
        "    # input layer\n",
        "    keras.layers.Flatten(input_shape=(X.shape[1], X.shape[2])),\n",
        "\n",
        "    # 1st dense layer\n",
        "    keras.layers.Dense(512, activation='relu', kernel_regularizer=keras.regularizers.l2(0.001)),\n",
        "    keras.layers.Dropout(0.3),\n",
        "\n",
        "    # 2nd dense layer\n",
        "    keras.layers.Dense(256, activation='relu', kernel_regularizer=keras.regularizers.l2(0.001)),\n",
        "    keras.layers.Dropout(0.3),\n",
        "\n",
        "    # 3rd dense layer\n",
        "    keras.layers.Dense(64, activation='relu', kernel_regularizer=keras.regularizers.l2(0.001)),\n",
        "    keras.layers.Dropout(0.3),\n",
        "\n",
        "    # output layer\n",
        "    keras.layers.Dense(11, activation='softmax')\n",
        "])"
      ],
      "metadata": {
        "id": "DW2WMIni1ucp"
      },
      "execution_count": 28,
      "outputs": []
    },
    {
      "cell_type": "code",
      "source": [
        "# compile model\n",
        "optimiser = keras.optimizers.Adam(learning_rate=0.0001)\n",
        "model_regularized.compile(optimizer=optimiser,\n",
        "              loss='sparse_categorical_crossentropy',\n",
        "              metrics=['accuracy'])"
      ],
      "metadata": {
        "id": "bJ4sQq9-11dQ"
      },
      "execution_count": 29,
      "outputs": []
    },
    {
      "cell_type": "code",
      "source": [
        "# train model\n",
        "history = model_regularized.fit(X_train, y_train, validation_data=(X_test, y_test), batch_size=32, epochs=100)"
      ],
      "metadata": {
        "colab": {
          "base_uri": "https://localhost:8080/"
        },
        "id": "sqVwsXtg14Ng",
        "outputId": "04c3c6ef-6de7-4233-b8ca-0ae56a4fd79c"
      },
      "execution_count": 30,
      "outputs": [
        {
          "output_type": "stream",
          "name": "stdout",
          "text": [
            "Epoch 1/100\n",
            "219/219 [==============================] - 6s 27ms/step - loss: 24.0709 - accuracy: 0.1559 - val_loss: 3.9174 - val_accuracy: 0.2530\n",
            "Epoch 2/100\n",
            "219/219 [==============================] - 7s 30ms/step - loss: 7.2467 - accuracy: 0.1742 - val_loss: 3.4857 - val_accuracy: 0.1989\n",
            "Epoch 3/100\n",
            "219/219 [==============================] - 7s 33ms/step - loss: 4.8416 - accuracy: 0.1710 - val_loss: 3.4621 - val_accuracy: 0.1862\n",
            "Epoch 4/100\n",
            "219/219 [==============================] - 7s 31ms/step - loss: 4.0297 - accuracy: 0.1804 - val_loss: 3.4708 - val_accuracy: 0.1632\n",
            "Epoch 5/100\n",
            "219/219 [==============================] - 7s 30ms/step - loss: 3.8085 - accuracy: 0.1959 - val_loss: 3.4249 - val_accuracy: 0.1899\n",
            "Epoch 6/100\n",
            "219/219 [==============================] - 7s 30ms/step - loss: 3.6697 - accuracy: 0.2037 - val_loss: 3.4007 - val_accuracy: 0.2033\n",
            "Epoch 7/100\n",
            "219/219 [==============================] - 7s 32ms/step - loss: 3.5594 - accuracy: 0.2080 - val_loss: 3.3851 - val_accuracy: 0.2029\n",
            "Epoch 8/100\n",
            "219/219 [==============================] - 7s 33ms/step - loss: 3.5005 - accuracy: 0.2202 - val_loss: 3.3088 - val_accuracy: 0.2240\n",
            "Epoch 9/100\n",
            "219/219 [==============================] - 7s 32ms/step - loss: 3.4230 - accuracy: 0.2303 - val_loss: 3.2665 - val_accuracy: 0.2844\n",
            "Epoch 10/100\n",
            "219/219 [==============================] - 7s 30ms/step - loss: 3.3815 - accuracy: 0.2594 - val_loss: 3.2147 - val_accuracy: 0.2974\n",
            "Epoch 11/100\n",
            "219/219 [==============================] - 6s 28ms/step - loss: 3.3276 - accuracy: 0.2754 - val_loss: 3.1859 - val_accuracy: 0.3001\n",
            "Epoch 12/100\n",
            "219/219 [==============================] - 6s 29ms/step - loss: 3.2787 - accuracy: 0.2813 - val_loss: 3.1546 - val_accuracy: 0.3037\n",
            "Epoch 13/100\n",
            "219/219 [==============================] - 6s 29ms/step - loss: 3.2278 - accuracy: 0.2824 - val_loss: 3.0837 - val_accuracy: 0.3224\n",
            "Epoch 14/100\n",
            "219/219 [==============================] - 7s 32ms/step - loss: 3.2142 - accuracy: 0.2901 - val_loss: 3.0763 - val_accuracy: 0.3258\n",
            "Epoch 15/100\n",
            "219/219 [==============================] - 7s 31ms/step - loss: 3.1917 - accuracy: 0.2888 - val_loss: 3.0553 - val_accuracy: 0.3181\n",
            "Epoch 16/100\n",
            "219/219 [==============================] - 7s 30ms/step - loss: 3.1507 - accuracy: 0.3000 - val_loss: 3.0332 - val_accuracy: 0.3351\n",
            "Epoch 17/100\n",
            "219/219 [==============================] - 6s 29ms/step - loss: 3.0998 - accuracy: 0.3102 - val_loss: 3.0055 - val_accuracy: 0.3441\n",
            "Epoch 18/100\n",
            "219/219 [==============================] - 6s 28ms/step - loss: 3.0749 - accuracy: 0.3147 - val_loss: 2.9754 - val_accuracy: 0.3368\n",
            "Epoch 19/100\n",
            "219/219 [==============================] - 7s 33ms/step - loss: 3.0517 - accuracy: 0.3162 - val_loss: 2.9224 - val_accuracy: 0.3465\n",
            "Epoch 20/100\n",
            "219/219 [==============================] - 6s 29ms/step - loss: 2.9971 - accuracy: 0.3383 - val_loss: 2.9080 - val_accuracy: 0.3608\n",
            "Epoch 21/100\n",
            "219/219 [==============================] - 6s 28ms/step - loss: 2.9548 - accuracy: 0.3423 - val_loss: 2.8866 - val_accuracy: 0.3435\n",
            "Epoch 22/100\n",
            "219/219 [==============================] - 6s 29ms/step - loss: 2.9616 - accuracy: 0.3375 - val_loss: 2.9453 - val_accuracy: 0.3425\n",
            "Epoch 23/100\n",
            "219/219 [==============================] - 7s 32ms/step - loss: 2.8985 - accuracy: 0.3551 - val_loss: 2.8296 - val_accuracy: 0.3682\n",
            "Epoch 24/100\n",
            "219/219 [==============================] - 7s 33ms/step - loss: 2.8553 - accuracy: 0.3654 - val_loss: 2.8270 - val_accuracy: 0.3715\n",
            "Epoch 25/100\n",
            "219/219 [==============================] - 6s 29ms/step - loss: 2.8280 - accuracy: 0.3631 - val_loss: 2.7516 - val_accuracy: 0.3995\n",
            "Epoch 26/100\n",
            "219/219 [==============================] - 6s 28ms/step - loss: 2.7739 - accuracy: 0.3791 - val_loss: 2.7360 - val_accuracy: 0.3728\n",
            "Epoch 27/100\n",
            "219/219 [==============================] - 6s 29ms/step - loss: 2.7692 - accuracy: 0.3785 - val_loss: 2.7142 - val_accuracy: 0.3992\n",
            "Epoch 28/100\n",
            "219/219 [==============================] - 6s 30ms/step - loss: 2.7246 - accuracy: 0.3798 - val_loss: 2.6539 - val_accuracy: 0.3982\n",
            "Epoch 29/100\n",
            "219/219 [==============================] - 6s 29ms/step - loss: 2.6748 - accuracy: 0.3891 - val_loss: 2.6218 - val_accuracy: 0.4176\n",
            "Epoch 30/100\n",
            "219/219 [==============================] - 6s 29ms/step - loss: 2.6299 - accuracy: 0.4163 - val_loss: 2.6045 - val_accuracy: 0.4069\n",
            "Epoch 31/100\n",
            "219/219 [==============================] - 7s 31ms/step - loss: 2.5817 - accuracy: 0.4136 - val_loss: 2.5907 - val_accuracy: 0.4262\n",
            "Epoch 32/100\n",
            "219/219 [==============================] - 7s 31ms/step - loss: 2.5520 - accuracy: 0.4222 - val_loss: 2.5181 - val_accuracy: 0.4316\n",
            "Epoch 33/100\n",
            "219/219 [==============================] - 8s 35ms/step - loss: 2.5109 - accuracy: 0.4372 - val_loss: 2.4879 - val_accuracy: 0.4289\n",
            "Epoch 34/100\n",
            "219/219 [==============================] - 7s 33ms/step - loss: 2.4785 - accuracy: 0.4363 - val_loss: 2.4957 - val_accuracy: 0.4222\n",
            "Epoch 35/100\n",
            "219/219 [==============================] - 7s 32ms/step - loss: 2.4413 - accuracy: 0.4373 - val_loss: 2.4376 - val_accuracy: 0.4413\n",
            "Epoch 36/100\n",
            "219/219 [==============================] - 7s 32ms/step - loss: 2.4049 - accuracy: 0.4442 - val_loss: 2.4014 - val_accuracy: 0.4356\n",
            "Epoch 37/100\n",
            "219/219 [==============================] - 7s 32ms/step - loss: 2.3619 - accuracy: 0.4528 - val_loss: 2.3652 - val_accuracy: 0.4630\n",
            "Epoch 38/100\n",
            "219/219 [==============================] - 7s 32ms/step - loss: 2.3377 - accuracy: 0.4588 - val_loss: 2.3508 - val_accuracy: 0.4389\n",
            "Epoch 39/100\n",
            "219/219 [==============================] - 7s 32ms/step - loss: 2.2826 - accuracy: 0.4615 - val_loss: 2.2981 - val_accuracy: 0.4526\n",
            "Epoch 40/100\n",
            "219/219 [==============================] - 7s 31ms/step - loss: 2.2691 - accuracy: 0.4632 - val_loss: 2.2746 - val_accuracy: 0.4446\n",
            "Epoch 41/100\n",
            "219/219 [==============================] - 7s 34ms/step - loss: 2.2084 - accuracy: 0.4732 - val_loss: 2.2510 - val_accuracy: 0.4630\n",
            "Epoch 42/100\n",
            "219/219 [==============================] - 7s 32ms/step - loss: 2.1754 - accuracy: 0.4854 - val_loss: 2.2333 - val_accuracy: 0.4746\n",
            "Epoch 43/100\n",
            "219/219 [==============================] - 7s 32ms/step - loss: 2.1290 - accuracy: 0.4936 - val_loss: 2.1958 - val_accuracy: 0.4776\n",
            "Epoch 44/100\n",
            "219/219 [==============================] - 7s 32ms/step - loss: 2.1120 - accuracy: 0.5011 - val_loss: 2.1819 - val_accuracy: 0.4793\n",
            "Epoch 45/100\n",
            "219/219 [==============================] - 7s 34ms/step - loss: 2.0681 - accuracy: 0.5079 - val_loss: 2.1411 - val_accuracy: 0.4783\n",
            "Epoch 46/100\n",
            "219/219 [==============================] - 7s 30ms/step - loss: 2.0298 - accuracy: 0.5036 - val_loss: 2.1410 - val_accuracy: 0.4766\n",
            "Epoch 47/100\n",
            "219/219 [==============================] - 7s 33ms/step - loss: 2.0067 - accuracy: 0.5160 - val_loss: 2.1005 - val_accuracy: 0.4783\n",
            "Epoch 48/100\n",
            "219/219 [==============================] - 8s 35ms/step - loss: 1.9702 - accuracy: 0.5219 - val_loss: 2.1437 - val_accuracy: 0.4753\n",
            "Epoch 49/100\n",
            "219/219 [==============================] - 7s 33ms/step - loss: 1.9395 - accuracy: 0.5242 - val_loss: 2.0790 - val_accuracy: 0.4813\n",
            "Epoch 50/100\n",
            "219/219 [==============================] - 7s 32ms/step - loss: 1.8971 - accuracy: 0.5336 - val_loss: 2.0631 - val_accuracy: 0.5073\n",
            "Epoch 51/100\n",
            "219/219 [==============================] - 6s 29ms/step - loss: 1.8790 - accuracy: 0.5329 - val_loss: 2.0801 - val_accuracy: 0.4990\n",
            "Epoch 52/100\n",
            "219/219 [==============================] - 5s 24ms/step - loss: 1.8453 - accuracy: 0.5413 - val_loss: 2.0506 - val_accuracy: 0.4893\n",
            "Epoch 53/100\n",
            "219/219 [==============================] - 5s 22ms/step - loss: 1.8156 - accuracy: 0.5436 - val_loss: 1.9720 - val_accuracy: 0.4937\n",
            "Epoch 54/100\n",
            "219/219 [==============================] - 4s 16ms/step - loss: 1.7989 - accuracy: 0.5579 - val_loss: 2.0152 - val_accuracy: 0.4943\n",
            "Epoch 55/100\n",
            "219/219 [==============================] - 4s 16ms/step - loss: 1.7432 - accuracy: 0.5658 - val_loss: 1.9740 - val_accuracy: 0.5037\n",
            "Epoch 56/100\n",
            "219/219 [==============================] - 3s 16ms/step - loss: 1.7323 - accuracy: 0.5571 - val_loss: 1.9813 - val_accuracy: 0.5087\n",
            "Epoch 57/100\n",
            "219/219 [==============================] - 3s 16ms/step - loss: 1.6972 - accuracy: 0.5702 - val_loss: 1.9054 - val_accuracy: 0.5103\n",
            "Epoch 58/100\n",
            "219/219 [==============================] - 4s 16ms/step - loss: 1.6840 - accuracy: 0.5734 - val_loss: 1.9141 - val_accuracy: 0.5130\n",
            "Epoch 59/100\n",
            "219/219 [==============================] - 4s 16ms/step - loss: 1.6636 - accuracy: 0.5825 - val_loss: 1.9469 - val_accuracy: 0.5060\n",
            "Epoch 60/100\n",
            "219/219 [==============================] - 3s 16ms/step - loss: 1.6283 - accuracy: 0.5860 - val_loss: 1.9489 - val_accuracy: 0.5023\n",
            "Epoch 61/100\n",
            "219/219 [==============================] - 3s 16ms/step - loss: 1.6274 - accuracy: 0.5837 - val_loss: 1.9223 - val_accuracy: 0.5144\n",
            "Epoch 62/100\n",
            "219/219 [==============================] - 4s 16ms/step - loss: 1.6054 - accuracy: 0.5907 - val_loss: 1.9027 - val_accuracy: 0.5194\n",
            "Epoch 63/100\n",
            "219/219 [==============================] - 3s 16ms/step - loss: 1.5817 - accuracy: 0.5903 - val_loss: 1.9120 - val_accuracy: 0.5177\n",
            "Epoch 64/100\n",
            "219/219 [==============================] - 4s 17ms/step - loss: 1.5701 - accuracy: 0.6019 - val_loss: 1.8768 - val_accuracy: 0.5354\n",
            "Epoch 65/100\n",
            "219/219 [==============================] - 4s 16ms/step - loss: 1.5314 - accuracy: 0.6063 - val_loss: 1.8582 - val_accuracy: 0.5177\n",
            "Epoch 66/100\n",
            "219/219 [==============================] - 4s 18ms/step - loss: 1.5027 - accuracy: 0.6126 - val_loss: 1.8419 - val_accuracy: 0.5290\n",
            "Epoch 67/100\n",
            "219/219 [==============================] - 5s 23ms/step - loss: 1.5034 - accuracy: 0.6136 - val_loss: 1.8640 - val_accuracy: 0.5267\n",
            "Epoch 68/100\n",
            "219/219 [==============================] - 5s 22ms/step - loss: 1.4728 - accuracy: 0.6217 - val_loss: 1.8437 - val_accuracy: 0.5264\n",
            "Epoch 69/100\n",
            "219/219 [==============================] - 5s 23ms/step - loss: 1.4649 - accuracy: 0.6235 - val_loss: 1.8496 - val_accuracy: 0.5324\n",
            "Epoch 70/100\n",
            "219/219 [==============================] - 5s 24ms/step - loss: 1.4386 - accuracy: 0.6276 - val_loss: 1.8287 - val_accuracy: 0.5307\n",
            "Epoch 71/100\n",
            "219/219 [==============================] - 5s 24ms/step - loss: 1.4338 - accuracy: 0.6259 - val_loss: 1.8053 - val_accuracy: 0.5394\n",
            "Epoch 72/100\n",
            "219/219 [==============================] - 5s 23ms/step - loss: 1.4002 - accuracy: 0.6393 - val_loss: 1.8615 - val_accuracy: 0.5347\n",
            "Epoch 73/100\n",
            "219/219 [==============================] - 5s 24ms/step - loss: 1.3872 - accuracy: 0.6395 - val_loss: 1.8658 - val_accuracy: 0.5461\n",
            "Epoch 74/100\n",
            "219/219 [==============================] - 5s 24ms/step - loss: 1.3721 - accuracy: 0.6438 - val_loss: 1.8050 - val_accuracy: 0.5444\n",
            "Epoch 75/100\n",
            "219/219 [==============================] - 5s 23ms/step - loss: 1.3714 - accuracy: 0.6481 - val_loss: 1.7813 - val_accuracy: 0.5397\n",
            "Epoch 76/100\n",
            "219/219 [==============================] - 5s 23ms/step - loss: 1.3526 - accuracy: 0.6548 - val_loss: 1.8534 - val_accuracy: 0.5381\n",
            "Epoch 77/100\n",
            "219/219 [==============================] - 5s 24ms/step - loss: 1.3386 - accuracy: 0.6515 - val_loss: 1.8102 - val_accuracy: 0.5547\n",
            "Epoch 78/100\n",
            "219/219 [==============================] - 5s 23ms/step - loss: 1.3316 - accuracy: 0.6528 - val_loss: 1.7582 - val_accuracy: 0.5501\n",
            "Epoch 79/100\n",
            "219/219 [==============================] - 5s 23ms/step - loss: 1.3121 - accuracy: 0.6615 - val_loss: 1.7704 - val_accuracy: 0.5527\n",
            "Epoch 80/100\n",
            "219/219 [==============================] - 5s 23ms/step - loss: 1.3170 - accuracy: 0.6648 - val_loss: 1.7937 - val_accuracy: 0.5447\n",
            "Epoch 81/100\n",
            "219/219 [==============================] - 5s 23ms/step - loss: 1.2856 - accuracy: 0.6614 - val_loss: 1.7673 - val_accuracy: 0.5501\n",
            "Epoch 82/100\n",
            "219/219 [==============================] - 5s 24ms/step - loss: 1.2596 - accuracy: 0.6671 - val_loss: 1.7782 - val_accuracy: 0.5581\n",
            "Epoch 83/100\n",
            "219/219 [==============================] - 5s 23ms/step - loss: 1.2286 - accuracy: 0.6805 - val_loss: 1.7962 - val_accuracy: 0.5581\n",
            "Epoch 84/100\n",
            "219/219 [==============================] - 5s 22ms/step - loss: 1.2361 - accuracy: 0.6775 - val_loss: 1.8080 - val_accuracy: 0.5577\n",
            "Epoch 85/100\n",
            "219/219 [==============================] - 5s 24ms/step - loss: 1.2161 - accuracy: 0.6888 - val_loss: 1.7823 - val_accuracy: 0.5471\n",
            "Epoch 86/100\n",
            "219/219 [==============================] - 5s 24ms/step - loss: 1.2245 - accuracy: 0.6795 - val_loss: 1.7817 - val_accuracy: 0.5617\n",
            "Epoch 87/100\n",
            "219/219 [==============================] - 5s 24ms/step - loss: 1.2058 - accuracy: 0.6828 - val_loss: 1.7572 - val_accuracy: 0.5638\n",
            "Epoch 88/100\n",
            "219/219 [==============================] - 5s 22ms/step - loss: 1.2127 - accuracy: 0.6890 - val_loss: 1.7566 - val_accuracy: 0.5628\n",
            "Epoch 89/100\n",
            "219/219 [==============================] - 5s 23ms/step - loss: 1.1805 - accuracy: 0.6897 - val_loss: 1.7240 - val_accuracy: 0.5691\n",
            "Epoch 90/100\n",
            "219/219 [==============================] - 5s 24ms/step - loss: 1.1710 - accuracy: 0.6997 - val_loss: 1.7864 - val_accuracy: 0.5561\n",
            "Epoch 91/100\n",
            "219/219 [==============================] - 6s 27ms/step - loss: 1.1635 - accuracy: 0.6996 - val_loss: 1.7858 - val_accuracy: 0.5641\n",
            "Epoch 92/100\n",
            "219/219 [==============================] - 6s 27ms/step - loss: 1.1579 - accuracy: 0.7001 - val_loss: 1.7400 - val_accuracy: 0.5547\n",
            "Epoch 93/100\n",
            "219/219 [==============================] - 6s 27ms/step - loss: 1.1298 - accuracy: 0.7050 - val_loss: 1.7587 - val_accuracy: 0.5684\n",
            "Epoch 94/100\n",
            "219/219 [==============================] - 6s 27ms/step - loss: 1.1257 - accuracy: 0.7053 - val_loss: 1.8213 - val_accuracy: 0.5581\n",
            "Epoch 95/100\n",
            "219/219 [==============================] - 5s 23ms/step - loss: 1.1081 - accuracy: 0.7089 - val_loss: 1.7508 - val_accuracy: 0.5658\n",
            "Epoch 96/100\n",
            "219/219 [==============================] - 5s 23ms/step - loss: 1.1249 - accuracy: 0.7077 - val_loss: 1.7403 - val_accuracy: 0.5704\n",
            "Epoch 97/100\n",
            "219/219 [==============================] - 6s 26ms/step - loss: 1.1075 - accuracy: 0.7082 - val_loss: 1.7398 - val_accuracy: 0.5768\n",
            "Epoch 98/100\n",
            "219/219 [==============================] - 6s 26ms/step - loss: 1.1096 - accuracy: 0.7153 - val_loss: 1.7687 - val_accuracy: 0.5594\n",
            "Epoch 99/100\n",
            "219/219 [==============================] - 6s 27ms/step - loss: 1.1101 - accuracy: 0.7099 - val_loss: 1.7570 - val_accuracy: 0.5721\n",
            "Epoch 100/100\n",
            "219/219 [==============================] - 6s 25ms/step - loss: 1.0977 - accuracy: 0.7163 - val_loss: 1.7519 - val_accuracy: 0.5674\n"
          ]
        }
      ]
    },
    {
      "cell_type": "code",
      "source": [
        "# plot accuracy and error as a function of the epochs\n",
        "plot_history(history)"
      ],
      "metadata": {
        "colab": {
          "base_uri": "https://localhost:8080/",
          "height": 295
        },
        "id": "huftZ7Ij16R7",
        "outputId": "409266a8-f118-40f4-815f-c8ee798cbc39"
      },
      "execution_count": 31,
      "outputs": [
        {
          "output_type": "display_data",
          "data": {
            "image/png": "[encoded data removed]",
            "text/plain": [
              "<Figure size 432x288 with 2 Axes>"
            ]
          },
          "metadata": {
            "needs_background": "light"
          }
        }
      ]
    },
    {
      "cell_type": "markdown",
      "source": [
        "Convolutional Neural Network"
      ],
      "metadata": {
        "id": "FbsS_9_D19oC"
      }
    },
    {
      "cell_type": "code",
      "source": [
        "# create train, validation and test split\n",
        "X_train, X_test, y_train, y_test = train_test_split(X, y, test_size=0.25)\n",
        "X_train, X_validation, y_train, y_validation = train_test_split(X_train, y_train, test_size=0.2)\n",
        "\n",
        "# add an axis to input sets\n",
        "X_train = X_train[..., np.newaxis]\n",
        "X_validation = X_validation[..., np.newaxis]\n",
        "X_test = X_test[..., np.newaxis]"
      ],
      "metadata": {
        "id": "rVYzGyvC1-IQ"
      },
      "execution_count": 32,
      "outputs": []
    },
    {
      "cell_type": "code",
      "source": [
        "X_train.shape"
      ],
      "metadata": {
        "colab": {
          "base_uri": "https://localhost:8080/"
        },
        "id": "CAuHw2T31_3j",
        "outputId": "23fb393b-9f75-4ba5-c85b-a8ad86102b8f"
      },
      "execution_count": 33,
      "outputs": [
        {
          "output_type": "execute_result",
          "data": {
            "text/plain": [
              "(5991, 130, 13, 1)"
            ]
          },
          "metadata": {},
          "execution_count": 33
        }
      ]
    },
    {
      "cell_type": "code",
      "source": [
        "input_shape = (X_train.shape[1], X_train.shape[2], 1)"
      ],
      "metadata": {
        "id": "XXnipD8z2BrU"
      },
      "execution_count": 34,
      "outputs": []
    },
    {
      "cell_type": "code",
      "source": [
        "# build the CNN\n",
        "model_cnn = keras.Sequential()\n",
        "\n",
        "# 1st conv layer\n",
        "model_cnn.add(keras.layers.Conv2D(32, (3, 3), activation='relu', input_shape=input_shape))\n",
        "model_cnn.add(keras.layers.MaxPooling2D((3, 3), strides=(2, 2), padding='same'))\n",
        "model_cnn.add(keras.layers.BatchNormalization())\n",
        "\n",
        "# 2nd conv layer\n",
        "model_cnn.add(keras.layers.Conv2D(32, (3, 3), activation='relu'))\n",
        "model_cnn.add(keras.layers.MaxPooling2D((3, 3), strides=(2, 2), padding='same'))\n",
        "model_cnn.add(keras.layers.BatchNormalization())\n",
        "\n",
        "# 3rd conv layer\n",
        "model_cnn.add(keras.layers.Conv2D(32, (2, 2), activation='relu'))\n",
        "model_cnn.add(keras.layers.MaxPooling2D((2, 2), strides=(2, 2), padding='same'))\n",
        "model_cnn.add(keras.layers.BatchNormalization())\n",
        "\n",
        "# flatten output and feed it into dense layer\n",
        "model_cnn.add(keras.layers.Flatten())\n",
        "model_cnn.add(keras.layers.Dense(64, activation='relu'))\n",
        "model_cnn.add(keras.layers.Dropout(0.3))\n",
        "\n",
        "# output layer\n",
        "model_cnn.add(keras.layers.Dense(11, activation='softmax'))"
      ],
      "metadata": {
        "id": "r8lB8Y-v2D66"
      },
      "execution_count": 39,
      "outputs": []
    },
    {
      "cell_type": "code",
      "source": [
        "# compile model\n",
        "optimiser = keras.optimizers.Adam(learning_rate=0.0001)\n",
        "model_cnn.compile(optimizer=optimiser,\n",
        "              loss='sparse_categorical_crossentropy',\n",
        "              metrics=['accuracy'])"
      ],
      "metadata": {
        "id": "CG7vCSue2HMm"
      },
      "execution_count": 40,
      "outputs": []
    },
    {
      "cell_type": "code",
      "source": [
        "model_cnn.summary()"
      ],
      "metadata": {
        "colab": {
          "base_uri": "https://localhost:8080/"
        },
        "id": "BZblMYQO2J7-",
        "outputId": "7ea1e80d-d14d-4622-ee5b-d0455ff30c91"
      },
      "execution_count": 41,
      "outputs": [
        {
          "output_type": "stream",
          "name": "stdout",
          "text": [
            "Model: \"sequential_5\"\n",
            "_________________________________________________________________\n",
            " Layer (type)                Output Shape              Param #   \n",
            "=================================================================\n",
            " conv2d_3 (Conv2D)           (None, 128, 11, 32)       320       \n",
            "                                                                 \n",
            " max_pooling2d_3 (MaxPooling  (None, 64, 6, 32)        0         \n",
            " 2D)                                                             \n",
            "                                                                 \n",
            " batch_normalization_3 (Batc  (None, 64, 6, 32)        128       \n",
            " hNormalization)                                                 \n",
            "                                                                 \n",
            " conv2d_4 (Conv2D)           (None, 62, 4, 32)         9248      \n",
            "                                                                 \n",
            " max_pooling2d_4 (MaxPooling  (None, 31, 2, 32)        0         \n",
            " 2D)                                                             \n",
            "                                                                 \n",
            " batch_normalization_4 (Batc  (None, 31, 2, 32)        128       \n",
            " hNormalization)                                                 \n",
            "                                                                 \n",
            " conv2d_5 (Conv2D)           (None, 30, 1, 32)         4128      \n",
            "                                                                 \n",
            " max_pooling2d_5 (MaxPooling  (None, 15, 1, 32)        0         \n",
            " 2D)                                                             \n",
            "                                                                 \n",
            " batch_normalization_5 (Batc  (None, 15, 1, 32)        128       \n",
            " hNormalization)                                                 \n",
            "                                                                 \n",
            " flatten_5 (Flatten)         (None, 480)               0         \n",
            "                                                                 \n",
            " dense_18 (Dense)            (None, 64)                30784     \n",
            "                                                                 \n",
            " dropout_7 (Dropout)         (None, 64)                0         \n",
            "                                                                 \n",
            " dense_19 (Dense)            (None, 11)                715       \n",
            "                                                                 \n",
            "=================================================================\n",
            "Total params: 45,579\n",
            "Trainable params: 45,387\n",
            "Non-trainable params: 192\n",
            "_________________________________________________________________\n"
          ]
        }
      ]
    },
    {
      "cell_type": "code",
      "source": [
        "# train model\n",
        "history = model_cnn.fit(X_train, y_train, validation_data=(X_validation, y_validation), batch_size=32, epochs=50)"
      ],
      "metadata": {
        "colab": {
          "base_uri": "https://localhost:8080/"
        },
        "id": "61Mr6nOY2M9Q",
        "outputId": "67d4c047-6a03-490c-c46f-9c275d02b656"
      },
      "execution_count": 42,
      "outputs": [
        {
          "output_type": "stream",
          "name": "stdout",
          "text": [
            "Epoch 1/50\n",
            "188/188 [==============================] - 14s 70ms/step - loss: 2.4186 - accuracy: 0.2307 - val_loss: 1.9161 - val_accuracy: 0.3438\n",
            "Epoch 2/50\n",
            "188/188 [==============================] - 14s 72ms/step - loss: 1.8931 - accuracy: 0.3529 - val_loss: 1.6228 - val_accuracy: 0.4366\n",
            "Epoch 3/50\n",
            "188/188 [==============================] - 13s 69ms/step - loss: 1.6823 - accuracy: 0.4175 - val_loss: 1.4760 - val_accuracy: 0.4953\n",
            "Epoch 4/50\n",
            "188/188 [==============================] - 13s 70ms/step - loss: 1.5563 - accuracy: 0.4605 - val_loss: 1.4021 - val_accuracy: 0.5060\n",
            "Epoch 5/50\n",
            "188/188 [==============================] - 13s 70ms/step - loss: 1.4666 - accuracy: 0.4902 - val_loss: 1.3398 - val_accuracy: 0.5214\n",
            "Epoch 6/50\n",
            "188/188 [==============================] - 13s 69ms/step - loss: 1.3891 - accuracy: 0.5104 - val_loss: 1.2827 - val_accuracy: 0.5387\n",
            "Epoch 7/50\n",
            "188/188 [==============================] - 13s 71ms/step - loss: 1.3459 - accuracy: 0.5386 - val_loss: 1.2420 - val_accuracy: 0.5661\n",
            "Epoch 8/50\n",
            "188/188 [==============================] - 12s 66ms/step - loss: 1.2782 - accuracy: 0.5433 - val_loss: 1.2104 - val_accuracy: 0.5634\n",
            "Epoch 9/50\n",
            "188/188 [==============================] - 13s 68ms/step - loss: 1.2311 - accuracy: 0.5653 - val_loss: 1.1815 - val_accuracy: 0.5754\n",
            "Epoch 10/50\n",
            "188/188 [==============================] - 13s 67ms/step - loss: 1.1879 - accuracy: 0.5805 - val_loss: 1.1399 - val_accuracy: 0.5928\n",
            "Epoch 11/50\n",
            "188/188 [==============================] - 13s 68ms/step - loss: 1.1614 - accuracy: 0.5875 - val_loss: 1.1195 - val_accuracy: 0.5995\n",
            "Epoch 12/50\n",
            "188/188 [==============================] - 13s 67ms/step - loss: 1.1156 - accuracy: 0.6091 - val_loss: 1.1019 - val_accuracy: 0.5988\n",
            "Epoch 13/50\n",
            "188/188 [==============================] - 12s 66ms/step - loss: 1.0856 - accuracy: 0.6176 - val_loss: 1.0538 - val_accuracy: 0.6182\n",
            "Epoch 14/50\n",
            "188/188 [==============================] - 13s 70ms/step - loss: 1.0498 - accuracy: 0.6249 - val_loss: 1.0586 - val_accuracy: 0.6255\n",
            "Epoch 15/50\n",
            "188/188 [==============================] - 13s 71ms/step - loss: 1.0217 - accuracy: 0.6425 - val_loss: 1.0352 - val_accuracy: 0.6355\n",
            "Epoch 16/50\n",
            "188/188 [==============================] - 13s 72ms/step - loss: 1.0055 - accuracy: 0.6390 - val_loss: 1.0085 - val_accuracy: 0.6342\n",
            "Epoch 17/50\n",
            "188/188 [==============================] - 13s 71ms/step - loss: 0.9683 - accuracy: 0.6558 - val_loss: 0.9805 - val_accuracy: 0.6475\n",
            "Epoch 18/50\n",
            "188/188 [==============================] - 13s 70ms/step - loss: 0.9631 - accuracy: 0.6593 - val_loss: 0.9837 - val_accuracy: 0.6502\n",
            "Epoch 19/50\n",
            "188/188 [==============================] - 13s 67ms/step - loss: 0.9235 - accuracy: 0.6730 - val_loss: 0.9720 - val_accuracy: 0.6522\n",
            "Epoch 20/50\n",
            "188/188 [==============================] - 13s 67ms/step - loss: 0.9174 - accuracy: 0.6757 - val_loss: 0.9569 - val_accuracy: 0.6575\n",
            "Epoch 21/50\n",
            "188/188 [==============================] - 12s 66ms/step - loss: 0.8878 - accuracy: 0.6870 - val_loss: 0.9660 - val_accuracy: 0.6429\n",
            "Epoch 22/50\n",
            "188/188 [==============================] - 13s 67ms/step - loss: 0.8611 - accuracy: 0.6924 - val_loss: 0.9408 - val_accuracy: 0.6502\n",
            "Epoch 23/50\n",
            "188/188 [==============================] - 13s 70ms/step - loss: 0.8476 - accuracy: 0.7027 - val_loss: 0.9161 - val_accuracy: 0.6549\n",
            "Epoch 24/50\n",
            "188/188 [==============================] - 14s 72ms/step - loss: 0.8255 - accuracy: 0.7102 - val_loss: 0.9136 - val_accuracy: 0.6676\n",
            "Epoch 25/50\n",
            "188/188 [==============================] - 14s 72ms/step - loss: 0.8055 - accuracy: 0.7216 - val_loss: 0.8923 - val_accuracy: 0.6776\n",
            "Epoch 26/50\n",
            "188/188 [==============================] - 13s 68ms/step - loss: 0.7877 - accuracy: 0.7286 - val_loss: 0.8785 - val_accuracy: 0.6909\n",
            "Epoch 27/50\n",
            "188/188 [==============================] - 13s 68ms/step - loss: 0.7874 - accuracy: 0.7291 - val_loss: 0.9184 - val_accuracy: 0.6736\n",
            "Epoch 28/50\n",
            "188/188 [==============================] - 13s 68ms/step - loss: 0.7574 - accuracy: 0.7351 - val_loss: 0.8692 - val_accuracy: 0.6936\n",
            "Epoch 29/50\n",
            "188/188 [==============================] - 13s 68ms/step - loss: 0.7556 - accuracy: 0.7296 - val_loss: 0.8575 - val_accuracy: 0.6896\n",
            "Epoch 30/50\n",
            "188/188 [==============================] - 13s 68ms/step - loss: 0.7435 - accuracy: 0.7374 - val_loss: 0.8547 - val_accuracy: 0.6949\n",
            "Epoch 31/50\n",
            "188/188 [==============================] - 13s 69ms/step - loss: 0.7082 - accuracy: 0.7560 - val_loss: 0.8590 - val_accuracy: 0.6996\n",
            "Epoch 32/50\n",
            "188/188 [==============================] - 13s 69ms/step - loss: 0.6995 - accuracy: 0.7561 - val_loss: 0.8721 - val_accuracy: 0.6869\n",
            "Epoch 33/50\n",
            "188/188 [==============================] - 13s 69ms/step - loss: 0.7089 - accuracy: 0.7476 - val_loss: 0.8458 - val_accuracy: 0.7156\n",
            "Epoch 34/50\n",
            "188/188 [==============================] - 13s 72ms/step - loss: 0.6736 - accuracy: 0.7615 - val_loss: 0.8228 - val_accuracy: 0.7043\n",
            "Epoch 35/50\n",
            "188/188 [==============================] - 13s 71ms/step - loss: 0.6610 - accuracy: 0.7677 - val_loss: 0.8152 - val_accuracy: 0.7136\n",
            "Epoch 36/50\n",
            "188/188 [==============================] - 13s 69ms/step - loss: 0.6551 - accuracy: 0.7692 - val_loss: 0.8358 - val_accuracy: 0.7023\n",
            "Epoch 37/50\n",
            "188/188 [==============================] - 13s 67ms/step - loss: 0.6488 - accuracy: 0.7661 - val_loss: 0.8261 - val_accuracy: 0.7116\n",
            "Epoch 38/50\n",
            "188/188 [==============================] - 13s 68ms/step - loss: 0.6384 - accuracy: 0.7798 - val_loss: 0.8174 - val_accuracy: 0.7123\n",
            "Epoch 39/50\n",
            "188/188 [==============================] - 13s 68ms/step - loss: 0.6041 - accuracy: 0.7833 - val_loss: 0.8422 - val_accuracy: 0.7076\n",
            "Epoch 40/50\n",
            "188/188 [==============================] - 13s 68ms/step - loss: 0.6195 - accuracy: 0.7757 - val_loss: 0.8497 - val_accuracy: 0.6996\n",
            "Epoch 41/50\n",
            "188/188 [==============================] - 13s 71ms/step - loss: 0.6073 - accuracy: 0.7878 - val_loss: 0.8145 - val_accuracy: 0.7123\n",
            "Epoch 42/50\n",
            "188/188 [==============================] - 14s 72ms/step - loss: 0.5991 - accuracy: 0.7862 - val_loss: 0.8049 - val_accuracy: 0.7143\n",
            "Epoch 43/50\n",
            "188/188 [==============================] - 13s 68ms/step - loss: 0.5915 - accuracy: 0.7930 - val_loss: 0.8129 - val_accuracy: 0.7049\n",
            "Epoch 44/50\n",
            "188/188 [==============================] - 14s 72ms/step - loss: 0.5692 - accuracy: 0.8014 - val_loss: 0.8301 - val_accuracy: 0.7043\n",
            "Epoch 45/50\n",
            "188/188 [==============================] - 13s 69ms/step - loss: 0.5637 - accuracy: 0.8084 - val_loss: 0.8070 - val_accuracy: 0.7116\n",
            "Epoch 46/50\n",
            "188/188 [==============================] - 13s 71ms/step - loss: 0.5562 - accuracy: 0.8049 - val_loss: 0.8183 - val_accuracy: 0.7283\n",
            "Epoch 47/50\n",
            "188/188 [==============================] - 13s 71ms/step - loss: 0.5487 - accuracy: 0.8080 - val_loss: 0.8137 - val_accuracy: 0.7143\n",
            "Epoch 48/50\n",
            "188/188 [==============================] - 13s 71ms/step - loss: 0.5371 - accuracy: 0.8097 - val_loss: 0.8133 - val_accuracy: 0.7123\n",
            "Epoch 49/50\n",
            "188/188 [==============================] - 13s 71ms/step - loss: 0.5311 - accuracy: 0.8151 - val_loss: 0.8216 - val_accuracy: 0.7176\n",
            "Epoch 50/50\n",
            "188/188 [==============================] - 14s 72ms/step - loss: 0.5280 - accuracy: 0.8167 - val_loss: 0.8012 - val_accuracy: 0.7230\n"
          ]
        }
      ]
    },
    {
      "cell_type": "code",
      "source": [
        "# plot accuracy and error as a function of the epochs\n",
        "plot_history(history)"
      ],
      "metadata": {
        "colab": {
          "base_uri": "https://localhost:8080/",
          "height": 295
        },
        "id": "4jzud5Wd2O2v",
        "outputId": "f165d037-966e-43fc-ea64-597328d9242b"
      },
      "execution_count": 43,
      "outputs": [
        {
          "output_type": "display_data",
          "data": {
            "image/png": "[encoded data removed]",
            "text/plain": [
              "<Figure size 432x288 with 2 Axes>"
            ]
          },
          "metadata": {
            "needs_background": "light"
          }
        }
      ]
    },
    {
      "cell_type": "code",
      "source": [
        "# evaluate model on Test Set\n",
        "test_loss, test_acc = model_cnn.evaluate(X_test, y_test, verbose=2)\n",
        "print('\\nTest accuracy:', test_acc)"
      ],
      "metadata": {
        "colab": {
          "base_uri": "https://localhost:8080/"
        },
        "id": "tRqw4gCb2Rh1",
        "outputId": "e52d1704-9108-40b0-d743-f7b9b9f17002"
      },
      "execution_count": 44,
      "outputs": [
        {
          "output_type": "stream",
          "name": "stdout",
          "text": [
            "79/79 - 1s - loss: 0.7853 - accuracy: 0.7269 - 1s/epoch - 13ms/step\n",
            "\n",
            "Test accuracy: 0.7268722653388977\n"
          ]
        }
      ]
    },
    {
      "cell_type": "code",
      "source": [
        "model_cnn.save(\"Music_Genre_10_CNN\")"
      ],
      "metadata": {
        "colab": {
          "base_uri": "https://localhost:8080/"
        },
        "id": "YA_k8u1-2TkK",
        "outputId": "75c24848-bc36-4dff-b009-94ff9a8db0ec"
      },
      "execution_count": 45,
      "outputs": [
        {
          "output_type": "stream",
          "name": "stdout",
          "text": [
            "INFO:tensorflow:Assets written to: Music_Genre_10_CNN/assets\n"
          ]
        }
      ]
    },
    {
      "cell_type": "code",
      "source": [
        "model_cnn.save(\"Music_Genre_10_CNN.h5\")"
      ],
      "metadata": {
        "id": "vUTdoU6r2V_C"
      },
      "execution_count": 46,
      "outputs": []
    },
    {
      "cell_type": "code",
      "source": [
        "# It can be used to reconstruct the model identically.\n",
        "reconstructed_model = keras.models.load_model(\"Music_Genre_10_CNN.h5\")"
      ],
      "metadata": {
        "id": "oavqF2je2Ya3"
      },
      "execution_count": 47,
      "outputs": []
    },
    {
      "cell_type": "markdown",
      "source": [
        "Prediction on Test Set"
      ],
      "metadata": {
        "id": "h-LZXDjJ2cVJ"
      }
    },
    {
      "cell_type": "code",
      "source": [
        "# pick a sample to predict from the test set\n",
        "X_to_predict = X_test[100]\n",
        "y_to_predict = y_test[100]"
      ],
      "metadata": {
        "id": "wbTJEn0H2ak-"
      },
      "execution_count": 48,
      "outputs": []
    },
    {
      "cell_type": "code",
      "source": [
        "X_to_predict.shape"
      ],
      "metadata": {
        "colab": {
          "base_uri": "https://localhost:8080/"
        },
        "id": "_IIqWFD52hgc",
        "outputId": "31fc06db-de16-4ba1-a367-0921a4647942"
      },
      "execution_count": 49,
      "outputs": [
        {
          "output_type": "execute_result",
          "data": {
            "text/plain": [
              "(130, 13, 1)"
            ]
          },
          "metadata": {},
          "execution_count": 49
        }
      ]
    },
    {
      "cell_type": "code",
      "source": [
        "print(\"Real Genre:\", y_to_predict)"
      ],
      "metadata": {
        "colab": {
          "base_uri": "https://localhost:8080/"
        },
        "id": "1myTFrD62jnh",
        "outputId": "5ed47297-9057-4734-c6d9-0b9b63f5bb32"
      },
      "execution_count": 50,
      "outputs": [
        {
          "output_type": "stream",
          "name": "stdout",
          "text": [
            "Real Genre: 9\n"
          ]
        }
      ]
    },
    {
      "cell_type": "code",
      "source": [
        "# add a dimension to input data for sample - model.predict() expects a 4d array in this case\n",
        "X_to_predict = X_to_predict[np.newaxis, ...] # array shape (1, 130, 13, 1)"
      ],
      "metadata": {
        "id": "kG1uzvrs2lPX"
      },
      "execution_count": 51,
      "outputs": []
    },
    {
      "cell_type": "code",
      "source": [
        "X_to_predict.shape"
      ],
      "metadata": {
        "colab": {
          "base_uri": "https://localhost:8080/"
        },
        "id": "ETFWAQau2nZn",
        "outputId": "4cc6013f-1546-4da0-963e-96cac69b7aaa"
      },
      "execution_count": 52,
      "outputs": [
        {
          "output_type": "execute_result",
          "data": {
            "text/plain": [
              "(1, 130, 13, 1)"
            ]
          },
          "metadata": {},
          "execution_count": 52
        }
      ]
    },
    {
      "cell_type": "code",
      "source": [
        "# perform prediction\n",
        "prediction = model_cnn.predict(X_to_predict)"
      ],
      "metadata": {
        "id": "7uvIqb7-2p55"
      },
      "execution_count": 53,
      "outputs": []
    },
    {
      "cell_type": "code",
      "source": [
        "# get index with max value\n",
        "predicted_index = np.argmax(prediction, axis=1)\n",
        "\n",
        "print(\"Predicted Genre:\", int(predicted_index))"
      ],
      "metadata": {
        "colab": {
          "base_uri": "https://localhost:8080/"
        },
        "id": "9gZckv-_2sdh",
        "outputId": "638f407b-293d-47e3-b6c8-a5e83dc0a743"
      },
      "execution_count": 54,
      "outputs": [
        {
          "output_type": "stream",
          "name": "stdout",
          "text": [
            "Predicted Genre: 9\n"
          ]
        }
      ]
    },
    {
      "cell_type": "code",
      "source": [
        "# pick a sample to predict from the test set\n",
        "X_to_predict = X_test[50]\n",
        "y_to_predict = y_test[50]\n",
        "\n",
        "print(\"Real Genre:\", y_to_predict)\n",
        "\n",
        "X_to_predict = X_to_predict[np.newaxis, ...]\n",
        "\n",
        "prediction = model_cnn.predict(X_to_predict)\n",
        "\n",
        "# get index with max value\n",
        "predicted_index = np.argmax(prediction, axis=1)\n",
        "\n",
        "print(\"Predicted Genre:\", int(predicted_index))"
      ],
      "metadata": {
        "colab": {
          "base_uri": "https://localhost:8080/"
        },
        "id": "e7mrmoSo2ubL",
        "outputId": "79e555a3-c978-4305-e7b0-b9a5f01c51bb"
      },
      "execution_count": 55,
      "outputs": [
        {
          "output_type": "stream",
          "name": "stdout",
          "text": [
            "Real Genre: 0\n",
            "Predicted Genre: 0\n"
          ]
        }
      ]
    },
    {
      "cell_type": "code",
      "source": [
        "len(X_test)"
      ],
      "metadata": {
        "colab": {
          "base_uri": "https://localhost:8080/"
        },
        "id": "POMyLmCE2wfp",
        "outputId": "11e8de63-6679-4f79-e3ae-247ecf456294"
      },
      "execution_count": 56,
      "outputs": [
        {
          "output_type": "execute_result",
          "data": {
            "text/plain": [
              "2497"
            ]
          },
          "metadata": {},
          "execution_count": 56
        }
      ]
    },
    {
      "cell_type": "code",
      "source": [
        "for n in range(10):\n",
        "\n",
        "  i = random.randint(0,len(X_test))\n",
        "  # pick a sample to predict from the test set\n",
        "  X_to_predict = X_test[i]\n",
        "  y_to_predict = y_test[i]\n",
        "\n",
        "  print(\"\\nReal Genre:\", y_to_predict)\n",
        "\n",
        "  X_to_predict = X_to_predict[np.newaxis, ...]\n",
        "\n",
        "  prediction = model_cnn.predict(X_to_predict)\n",
        "\n",
        "  # get index with max value\n",
        "  predicted_index = np.argmax(prediction, axis=1)\n",
        "\n",
        "  print(\"Predicted Genre:\", int(predicted_index))"
      ],
      "metadata": {
        "colab": {
          "base_uri": "https://localhost:8080/"
        },
        "id": "fR_WJWna2yqY",
        "outputId": "a8d20dcd-b4d5-4531-d302-859068577a75"
      },
      "execution_count": 57,
      "outputs": [
        {
          "output_type": "stream",
          "name": "stdout",
          "text": [
            "\n",
            "Real Genre: 9\n",
            "Predicted Genre: 10\n",
            "\n",
            "Real Genre: 5\n",
            "Predicted Genre: 5\n",
            "\n",
            "Real Genre: 8\n",
            "Predicted Genre: 8\n",
            "\n",
            "Real Genre: 2\n",
            "Predicted Genre: 2\n",
            "\n",
            "Real Genre: 9\n",
            "Predicted Genre: 9\n",
            "\n",
            "Real Genre: 9\n",
            "Predicted Genre: 8\n",
            "\n",
            "Real Genre: 3\n",
            "Predicted Genre: 3\n",
            "\n",
            "Real Genre: 1\n",
            "Predicted Genre: 1\n",
            "\n",
            "Real Genre: 10\n",
            "Predicted Genre: 10\n",
            "\n",
            "Real Genre: 10\n",
            "Predicted Genre: 9\n"
          ]
        }
      ]
    },
    {
      "cell_type": "markdown",
      "source": [
        "Prediction on New Songs"
      ],
      "metadata": {
        "id": "FKkZyScC25Zf"
      }
    },
    {
      "cell_type": "code",
      "source": [
        "# Audio files pre-processing\n",
        "def process_input(audio_file, track_duration):\n",
        "\n",
        "  SAMPLE_RATE = 22050\n",
        "  NUM_MFCC = 13\n",
        "  N_FTT=2048\n",
        "  HOP_LENGTH=512\n",
        "  TRACK_DURATION = track_duration # measured in seconds\n",
        "  SAMPLES_PER_TRACK = SAMPLE_RATE * TRACK_DURATION\n",
        "  NUM_SEGMENTS = 10\n",
        "\n",
        "  samples_per_segment = int(SAMPLES_PER_TRACK / NUM_SEGMENTS)\n",
        "  num_mfcc_vectors_per_segment = math.ceil(samples_per_segment / HOP_LENGTH)\n",
        "\n",
        "  signal, sample_rate = librosa.load(audio_file, sr=SAMPLE_RATE)\n",
        "  \n",
        "  for d in range(10):\n",
        "\n",
        "    # calculate start and finish sample for current segment\n",
        "    start = samples_per_segment * d\n",
        "    finish = start + samples_per_segment\n",
        "\n",
        "    # extract mfcc\n",
        "    mfcc = librosa.feature.mfcc(signal[start:finish], sample_rate, n_mfcc=NUM_MFCC, n_fft=N_FTT, hop_length=HOP_LENGTH)\n",
        "    mfcc = mfcc.T\n",
        "\n",
        "    return mfcc"
      ],
      "metadata": {
        "id": "vsv5N0h123c1"
      },
      "execution_count": 58,
      "outputs": []
    },
    {
      "cell_type": "code",
      "source": [
        "genre_dict = {0:\"hiphop\",1:\"country\",2:\"jazz\",3:\"classical\",4:\"metal\",5:\"pop\",6:\"rock\",7:\"blues\",8:\"reggae\",9:\"disco\"}"
      ],
      "metadata": {
        "id": "rtubcMc82-TG"
      },
      "execution_count": 59,
      "outputs": []
    },
    {
      "cell_type": "code",
      "source": [
        "new_input_mfcc = process_input(\"/content/drive/MyDrive/Dl project/genres_original/file_example_WAV_1MG.wav\", 30)"
      ],
      "metadata": {
        "id": "CZvEy6Pa3AyM"
      },
      "execution_count": 63,
      "outputs": []
    },
    {
      "cell_type": "code",
      "source": [
        "type(new_input_mfcc)"
      ],
      "metadata": {
        "colab": {
          "base_uri": "https://localhost:8080/"
        },
        "id": "-C4lZ3cQ3DGD",
        "outputId": "4ff770eb-9290-4e1a-bd34-efbb84b63e06"
      },
      "execution_count": 64,
      "outputs": [
        {
          "output_type": "execute_result",
          "data": {
            "text/plain": [
              "numpy.ndarray"
            ]
          },
          "metadata": {},
          "execution_count": 64
        }
      ]
    },
    {
      "cell_type": "code",
      "source": [
        "new_input_mfcc.shape"
      ],
      "metadata": {
        "colab": {
          "base_uri": "https://localhost:8080/"
        },
        "id": "rDaLcpqu3E-u",
        "outputId": "79fbd5f4-4cd0-4c88-d4ab-5c1ef6417e7c"
      },
      "execution_count": 65,
      "outputs": [
        {
          "output_type": "execute_result",
          "data": {
            "text/plain": [
              "(130, 13)"
            ]
          },
          "metadata": {},
          "execution_count": 65
        }
      ]
    },
    {
      "cell_type": "code",
      "source": [
        "X_to_predict = new_input_mfcc[np.newaxis, ..., np.newaxis]\n",
        "X_to_predict.shape"
      ],
      "metadata": {
        "colab": {
          "base_uri": "https://localhost:8080/"
        },
        "id": "8poKo2X13G9K",
        "outputId": "f55b7fb2-53c2-4523-8b10-2894699dc53f"
      },
      "execution_count": 66,
      "outputs": [
        {
          "output_type": "execute_result",
          "data": {
            "text/plain": [
              "(1, 130, 13, 1)"
            ]
          },
          "metadata": {},
          "execution_count": 66
        }
      ]
    },
    {
      "cell_type": "code",
      "source": [
        "prediction = model_cnn.predict(X_to_predict)\n",
        "\n",
        "# get index with max value\n",
        "predicted_index = np.argmax(prediction, axis=1)\n",
        "\n",
        "print(\"Predicted Genre:\", genre_dict[int(predicted_index)])"
      ],
      "metadata": {
        "colab": {
          "base_uri": "https://localhost:8080/"
        },
        "id": "sJxHZ8Bb3IrI",
        "outputId": "7a001388-2d71-4b68-f03e-b66704cb5d9e"
      },
      "execution_count": 67,
      "outputs": [
        {
          "output_type": "stream",
          "name": "stdout",
          "text": [
            "Predicted Genre: jazz\n"
          ]
        }
      ]
    },
    {
      "cell_type": "code",
      "source": [
        "new_input_mfcc = process_input(\"/content/drive/MyDrive/Dl project/genres_original/StarWars60.wav\", 30)"
      ],
      "metadata": {
        "id": "3U1ux1eg3Kux"
      },
      "execution_count": 69,
      "outputs": []
    },
    {
      "cell_type": "code",
      "source": [
        "X_to_predict = new_input_mfcc[np.newaxis, ..., np.newaxis]\n",
        "X_to_predict.shape"
      ],
      "metadata": {
        "colab": {
          "base_uri": "https://localhost:8080/"
        },
        "id": "OQ_P6bMv3Mza",
        "outputId": "bdf458ee-90d2-4568-e3e4-d63304d07016"
      },
      "execution_count": 70,
      "outputs": [
        {
          "output_type": "execute_result",
          "data": {
            "text/plain": [
              "(1, 130, 13, 1)"
            ]
          },
          "metadata": {},
          "execution_count": 70
        }
      ]
    },
    {
      "cell_type": "code",
      "source": [
        "prediction = model_cnn.predict(X_to_predict)\n",
        "\n",
        "# get index with max value\n",
        "predicted_index = np.argmax(prediction, axis=1)\n",
        "\n",
        "print(\"Predicted Genre:\", genre_dict[int(predicted_index)])"
      ],
      "metadata": {
        "colab": {
          "base_uri": "https://localhost:8080/"
        },
        "id": "lcyxGn963O7B",
        "outputId": "2fd913e4-6fb3-49bb-f525-ee6a797791fb"
      },
      "execution_count": 71,
      "outputs": [
        {
          "output_type": "stream",
          "name": "stdout",
          "text": [
            "Predicted Genre: pop\n"
          ]
        }
      ]
    }
  ]
}